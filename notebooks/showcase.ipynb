{
 "cells": [
  {
   "cell_type": "markdown",
   "id": "a1094ac9-1c7f-4489-a59b-b0d60cfa6ed8",
   "metadata": {},
   "source": [
    "# Showcase"
   ]
  },
  {
   "cell_type": "code",
   "execution_count": 1,
   "id": "a3837104-aef5-4d48-bfdd-3eaeffd0cd0d",
   "metadata": {},
   "outputs": [],
   "source": [
    "import sys\n",
    "import pandas as pd\n",
    "import numpy as np\n",
    "\n",
    "import seaborn as sns\n",
    "\n",
    "from iplot import iplot, iplot_settings\n",
    "%config InlineBackend.figure_format = 'retina'"
   ]
  },
  {
   "cell_type": "markdown",
   "id": "a6c0e75f-3b0d-4357-aaad-9096ec674b97",
   "metadata": {},
   "source": [
    "## Dummy data"
   ]
  },
  {
   "cell_type": "code",
   "execution_count": 2,
   "id": "530faa18-6fda-4473-8ac0-0bc8eee34a00",
   "metadata": {},
   "outputs": [
    {
     "data": {
      "text/html": [
       "<div>\n",
       "<style scoped>\n",
       "    .dataframe tbody tr th:only-of-type {\n",
       "        vertical-align: middle;\n",
       "    }\n",
       "\n",
       "    .dataframe tbody tr th {\n",
       "        vertical-align: top;\n",
       "    }\n",
       "\n",
       "    .dataframe thead th {\n",
       "        text-align: right;\n",
       "    }\n",
       "</style>\n",
       "<table border=\"1\" class=\"dataframe\">\n",
       "  <thead>\n",
       "    <tr style=\"text-align: right;\">\n",
       "      <th></th>\n",
       "      <th>species</th>\n",
       "      <th>island</th>\n",
       "      <th>bill_length_mm</th>\n",
       "      <th>bill_depth_mm</th>\n",
       "      <th>flipper_length_mm</th>\n",
       "      <th>body_mass_g</th>\n",
       "      <th>sex</th>\n",
       "    </tr>\n",
       "  </thead>\n",
       "  <tbody>\n",
       "    <tr>\n",
       "      <th>0</th>\n",
       "      <td>Adelie</td>\n",
       "      <td>Torgersen</td>\n",
       "      <td>39.1</td>\n",
       "      <td>18.7</td>\n",
       "      <td>181.0</td>\n",
       "      <td>3750.0</td>\n",
       "      <td>Male</td>\n",
       "    </tr>\n",
       "    <tr>\n",
       "      <th>1</th>\n",
       "      <td>Adelie</td>\n",
       "      <td>Torgersen</td>\n",
       "      <td>39.5</td>\n",
       "      <td>17.4</td>\n",
       "      <td>186.0</td>\n",
       "      <td>3800.0</td>\n",
       "      <td>Female</td>\n",
       "    </tr>\n",
       "    <tr>\n",
       "      <th>2</th>\n",
       "      <td>Adelie</td>\n",
       "      <td>Torgersen</td>\n",
       "      <td>40.3</td>\n",
       "      <td>18.0</td>\n",
       "      <td>195.0</td>\n",
       "      <td>3250.0</td>\n",
       "      <td>Female</td>\n",
       "    </tr>\n",
       "    <tr>\n",
       "      <th>3</th>\n",
       "      <td>Adelie</td>\n",
       "      <td>Torgersen</td>\n",
       "      <td>NaN</td>\n",
       "      <td>NaN</td>\n",
       "      <td>NaN</td>\n",
       "      <td>NaN</td>\n",
       "      <td>NaN</td>\n",
       "    </tr>\n",
       "    <tr>\n",
       "      <th>4</th>\n",
       "      <td>Adelie</td>\n",
       "      <td>Torgersen</td>\n",
       "      <td>36.7</td>\n",
       "      <td>19.3</td>\n",
       "      <td>193.0</td>\n",
       "      <td>3450.0</td>\n",
       "      <td>Female</td>\n",
       "    </tr>\n",
       "  </tbody>\n",
       "</table>\n",
       "</div>"
      ],
      "text/plain": [
       "  species     island  bill_length_mm  bill_depth_mm  flipper_length_mm  \\\n",
       "0  Adelie  Torgersen            39.1           18.7              181.0   \n",
       "1  Adelie  Torgersen            39.5           17.4              186.0   \n",
       "2  Adelie  Torgersen            40.3           18.0              195.0   \n",
       "3  Adelie  Torgersen             NaN            NaN                NaN   \n",
       "4  Adelie  Torgersen            36.7           19.3              193.0   \n",
       "\n",
       "   body_mass_g     sex  \n",
       "0       3750.0    Male  \n",
       "1       3800.0  Female  \n",
       "2       3250.0  Female  \n",
       "3          NaN     NaN  \n",
       "4       3450.0  Female  "
      ]
     },
     "execution_count": 2,
     "metadata": {},
     "output_type": "execute_result"
    }
   ],
   "source": [
    "data_frame = sns.load_dataset('penguins')\n",
    "data_frame.head()"
   ]
  },
  {
   "cell_type": "markdown",
   "id": "1d2eae56-5a73-4290-b41d-4f0bcc19e20e",
   "metadata": {},
   "source": [
    "## Examples"
   ]
  },
  {
   "cell_type": "code",
   "execution_count": 4,
   "id": "d5b9c67e-d64d-43d6-94f0-cd0536586181",
   "metadata": {},
   "outputs": [
    {
     "data": {
      "text/html": [
       "<style>.button-spacing-class {margin-left: 3em; margin-right: 2em;}</style>"
      ],
      "text/plain": [
       "<IPython.core.display.HTML object>"
      ]
     },
     "metadata": {},
     "output_type": "display_data"
    },
    {
     "data": {
      "text/html": [
       "<style> .widget-label { max-width: 3em !important; } </style>"
      ],
      "text/plain": [
       "<IPython.core.display.HTML object>"
      ]
     },
     "metadata": {},
     "output_type": "display_data"
    },
    {
     "data": {
      "application/vnd.jupyter.widget-view+json": {
       "model_id": "f815c2d7496d4cef8e1d9cf0b358f6fc",
       "version_major": 2,
       "version_minor": 0
      },
      "text/plain": [
       "HBox(children=(HBox(children=(Box(children=(Dropdown(description='X:', options=('none', 'species', 'island', '…"
      ]
     },
     "metadata": {},
     "output_type": "display_data"
    },
    {
     "data": {
      "application/vnd.jupyter.widget-view+json": {
       "model_id": "e629caed4eed4978bd04408b985fac1c",
       "version_major": 2,
       "version_minor": 0
      },
      "text/plain": [
       "Output()"
      ]
     },
     "metadata": {},
     "output_type": "display_data"
    },
    {
     "data": {
      "application/vnd.jupyter.widget-view+json": {
       "model_id": "ad4b837bdc674548b7f738bfab884ab6",
       "version_major": 2,
       "version_minor": 0
      },
      "text/plain": [
       "Output()"
      ]
     },
     "metadata": {},
     "output_type": "display_data"
    },
    {
     "data": {
      "application/vnd.jupyter.widget-view+json": {
       "model_id": "0178155c7ca24da7a9fcafaabca07482",
       "version_major": 2,
       "version_minor": 0
      },
      "text/plain": [
       "Output()"
      ]
     },
     "metadata": {},
     "output_type": "display_data"
    },
    {
     "data": {
      "application/vnd.jupyter.widget-view+json": {
       "model_id": "0178155c7ca24da7a9fcafaabca07482",
       "version_major": 2,
       "version_minor": 0
      },
      "text/plain": [
       "Output()"
      ]
     },
     "execution_count": 4,
     "metadata": {},
     "output_type": "execute_result"
    }
   ],
   "source": [
    "iplot(data_frame)"
   ]
  },
  {
   "cell_type": "code",
   "execution_count": null,
   "id": "f5734dfe-93cf-414c-9644-14df570e4dd5",
   "metadata": {},
   "outputs": [],
   "source": []
  },
  {
   "cell_type": "code",
   "execution_count": null,
   "id": "6a1e2823-c0b7-4cb3-a9b8-de1082c357c7",
   "metadata": {},
   "outputs": [],
   "source": []
  },
  {
   "cell_type": "code",
   "execution_count": null,
   "id": "27f934f3-8f55-4a07-86c1-b3cb3f9e53e2",
   "metadata": {},
   "outputs": [],
   "source": []
  },
  {
   "cell_type": "code",
   "execution_count": 3,
   "id": "1cd0c9d4",
   "metadata": {},
   "outputs": [
    {
     "data": {
      "text/html": [
       "<style>.button-spacing-class {margin-left: 3em; margin-right: 2em;}</style>"
      ],
      "text/plain": [
       "<IPython.core.display.HTML object>"
      ]
     },
     "metadata": {},
     "output_type": "display_data"
    },
    {
     "data": {
      "text/html": [
       "<style> .widget-label { max-width: 3em !important; } </style>"
      ],
      "text/plain": [
       "<IPython.core.display.HTML object>"
      ]
     },
     "metadata": {},
     "output_type": "display_data"
    },
    {
     "data": {
      "application/vnd.jupyter.widget-view+json": {
       "model_id": "f924eacac0484c5fb66564f558e8bfb8",
       "version_major": 2,
       "version_minor": 0
      },
      "text/plain": [
       "HBox(children=(HBox(children=(Box(children=(Dropdown(description='X:', index=1, options=('none', 'species', 'i…"
      ]
     },
     "metadata": {},
     "output_type": "display_data"
    },
    {
     "data": {
      "application/vnd.jupyter.widget-view+json": {
       "model_id": "76c896d6178b4cecab3cdd653705bb9c",
       "version_major": 2,
       "version_minor": 0
      },
      "text/plain": [
       "Output()"
      ]
     },
     "metadata": {},
     "output_type": "display_data"
    },
    {
     "data": {
      "application/vnd.jupyter.widget-view+json": {
       "model_id": "f83bf5b508004ba0928526947e88f33f",
       "version_major": 2,
       "version_minor": 0
      },
      "text/plain": [
       "Output()"
      ]
     },
     "metadata": {},
     "output_type": "display_data"
    },
    {
     "data": {
      "application/vnd.jupyter.widget-view+json": {
       "model_id": "c024fdeea90a441984890b04947273e5",
       "version_major": 2,
       "version_minor": 0
      },
      "text/plain": [
       "Output()"
      ]
     },
     "metadata": {},
     "output_type": "display_data"
    },
    {
     "data": {
      "application/vnd.jupyter.widget-view+json": {
       "model_id": "c024fdeea90a441984890b04947273e5",
       "version_major": 2,
       "version_minor": 0
      },
      "text/plain": [
       "Output()"
      ]
     },
     "execution_count": 3,
     "metadata": {},
     "output_type": "execute_result"
    }
   ],
   "source": [
    "iplot_settings(max_figure_width=2, max_figure_height=2)\n",
    "iplot(data_frame, x='species', y='body_mass_g', hue='sex')"
   ]
  },
  {
   "cell_type": "code",
   "execution_count": 6,
   "id": "c4649a0a",
   "metadata": {},
   "outputs": [
    {
     "data": {
      "text/html": [
       "<style>.button-spacing-class {margin-left: 3em; margin-right: 2em;}</style>"
      ],
      "text/plain": [
       "<IPython.core.display.HTML object>"
      ]
     },
     "metadata": {},
     "output_type": "display_data"
    },
    {
     "data": {
      "text/html": [
       "<style> .widget-label { max-width: 3em !important; } </style>"
      ],
      "text/plain": [
       "<IPython.core.display.HTML object>"
      ]
     },
     "metadata": {},
     "output_type": "display_data"
    },
    {
     "data": {
      "application/vnd.jupyter.widget-view+json": {
       "model_id": "1c3ddbdcfda042a4b413c70a3a28fdc1",
       "version_major": 2,
       "version_minor": 0
      },
      "text/plain": [
       "HBox(children=(HBox(children=(Box(children=(Dropdown(description='X:', options=('none', 'species', 'island', '…"
      ]
     },
     "metadata": {},
     "output_type": "display_data"
    },
    {
     "data": {
      "application/vnd.jupyter.widget-view+json": {
       "model_id": "e31e900a35be492b833e257a1722f90a",
       "version_major": 2,
       "version_minor": 0
      },
      "text/plain": [
       "Output()"
      ]
     },
     "metadata": {},
     "output_type": "display_data"
    },
    {
     "data": {
      "application/vnd.jupyter.widget-view+json": {
       "model_id": "5b40536b7c8c460a84fab9878cee991f",
       "version_major": 2,
       "version_minor": 0
      },
      "text/plain": [
       "Output()"
      ]
     },
     "metadata": {},
     "output_type": "display_data"
    },
    {
     "data": {
      "application/vnd.jupyter.widget-view+json": {
       "model_id": "442126c557d04c65b5bf3bc668c350c4",
       "version_major": 2,
       "version_minor": 0
      },
      "text/plain": [
       "Output()"
      ]
     },
     "metadata": {},
     "output_type": "display_data"
    },
    {
     "data": {
      "application/vnd.jupyter.widget-view+json": {
       "model_id": "442126c557d04c65b5bf3bc668c350c4",
       "version_major": 2,
       "version_minor": 0
      },
      "text/plain": [
       "Output()"
      ]
     },
     "execution_count": 6,
     "metadata": {},
     "output_type": "execute_result"
    }
   ],
   "source": [
    "iplot(data_frame)"
   ]
  },
  {
   "cell_type": "code",
   "execution_count": null,
   "id": "72afb535-272b-4581-b98d-c4f99f962851",
   "metadata": {},
   "outputs": [],
   "source": [
    "iplot(data_frame, x='species', y='body_mass_g', hue='sex')"
   ]
  },
  {
   "cell_type": "code",
   "execution_count": null,
   "id": "081bbdc5",
   "metadata": {},
   "outputs": [],
   "source": []
  },
  {
   "cell_type": "code",
   "execution_count": null,
   "id": "0fa2d5ce-22d2-4856-a5cd-08865ed986a1",
   "metadata": {},
   "outputs": [
    {
     "ename": "TypeError",
     "evalue": "iplot() got an unexpected keyword argument 'wrap'",
     "output_type": "error",
     "traceback": [
      "\u001b[31m---------------------------------------------------------------------------\u001b[39m",
      "\u001b[31mTypeError\u001b[39m                                 Traceback (most recent call last)",
      "\u001b[36mCell\u001b[39m\u001b[36m \u001b[39m\u001b[32mIn[7]\u001b[39m\u001b[32m, line 1\u001b[39m\n\u001b[32m----> \u001b[39m\u001b[32m1\u001b[39m \u001b[43miplot\u001b[49m\u001b[43m(\u001b[49m\u001b[43mdata_frame\u001b[49m\u001b[43m,\u001b[49m\u001b[43m \u001b[49m\u001b[43mx\u001b[49m\u001b[43m=\u001b[49m\u001b[33;43m'\u001b[39;49m\u001b[33;43mflipper_length_mm\u001b[39;49m\u001b[33;43m'\u001b[39;49m\u001b[43m,\u001b[49m\u001b[43m \u001b[49m\u001b[43my\u001b[49m\u001b[43m=\u001b[49m\u001b[33;43m'\u001b[39;49m\u001b[33;43mbody_mass_g\u001b[39;49m\u001b[33;43m'\u001b[39;49m\u001b[43m,\u001b[49m\u001b[43m \u001b[49m\u001b[43mhue\u001b[49m\u001b[43m=\u001b[49m\u001b[33;43m'\u001b[39;49m\u001b[33;43msex\u001b[39;49m\u001b[33;43m'\u001b[39;49m\u001b[43m,\u001b[49m\u001b[43m \u001b[49m\u001b[43mwrap\u001b[49m\u001b[43m=\u001b[49m\u001b[32;43m2\u001b[39;49m\u001b[43m)\u001b[49m\n",
      "\u001b[31mTypeError\u001b[39m: iplot() got an unexpected keyword argument 'wrap'"
     ]
    }
   ],
   "source": [
    "iplot(data_frame, x='flipper_length_mm', y='body_mass_g', hue='sex'=2)"
   ]
  },
  {
   "cell_type": "code",
   "execution_count": 6,
   "id": "45c3d593-1da8-414c-8fb0-8b79b5c24ad3",
   "metadata": {},
   "outputs": [
    {
     "data": {
      "application/vnd.jupyter.widget-view+json": {
       "model_id": "8a080c8a3655435a9822e886af3ccc26",
       "version_major": 2,
       "version_minor": 0
      },
      "text/plain": [
       "HBox(children=(Dropdown(description='X variable:', options=('species', 'island', 'bill_length_mm', 'bill_depth…"
      ]
     },
     "metadata": {},
     "output_type": "display_data"
    },
    {
     "data": {
      "application/vnd.jupyter.widget-view+json": {
       "model_id": "a0d127b5a03b4ec48b1f4b418c888ef0",
       "version_major": 2,
       "version_minor": 0
      },
      "text/plain": [
       "Output()"
      ]
     },
     "metadata": {},
     "output_type": "display_data"
    }
   ],
   "source": [
    "iplot(data_frame, x='species', y='bill_depth_mm')"
   ]
  },
  {
   "cell_type": "code",
   "execution_count": 7,
   "id": "679a62eb-759d-469d-8999-121469074be9",
   "metadata": {},
   "outputs": [
    {
     "data": {
      "application/vnd.jupyter.widget-view+json": {
       "model_id": "62d8b959f47e4fccbed5ecde99242ee8",
       "version_major": 2,
       "version_minor": 0
      },
      "text/plain": [
       "HBox(children=(Dropdown(description='X variable:', index=2, options=('species', 'island', 'bill_length_mm', 'b…"
      ]
     },
     "metadata": {},
     "output_type": "display_data"
    },
    {
     "data": {
      "application/vnd.jupyter.widget-view+json": {
       "model_id": "84c56fae526c4868b029d4cb065aa93e",
       "version_major": 2,
       "version_minor": 0
      },
      "text/plain": [
       "Output()"
      ]
     },
     "metadata": {},
     "output_type": "display_data"
    }
   ],
   "source": [
    "iplot(data_frame, x='bill_length_mm', y='bill_depth_mm', graphics=[sns.scatterplot])"
   ]
  },
  {
   "cell_type": "code",
   "execution_count": 9,
   "id": "47bdeb62-234a-45e4-b8f6-c8a6ce6a4c65",
   "metadata": {},
   "outputs": [
    {
     "data": {
      "application/vnd.jupyter.widget-view+json": {
       "model_id": "b5418eca23294dee8b643c9863990608",
       "version_major": 2,
       "version_minor": 0
      },
      "text/plain": [
       "HBox(children=(Dropdown(description='X variable:', index=2, options=('species', 'island', 'bill_length_mm', 'b…"
      ]
     },
     "metadata": {},
     "output_type": "display_data"
    },
    {
     "data": {
      "application/vnd.jupyter.widget-view+json": {
       "model_id": "f91606f55d3e47b1afd3a3a82835cabb",
       "version_major": 2,
       "version_minor": 0
      },
      "text/plain": [
       "Output()"
      ]
     },
     "metadata": {},
     "output_type": "display_data"
    }
   ],
   "source": [
    "iplot(data_frame, x='bill_length_mm', y='bill_depth_mm', hue='species', graphics=[sns.kdeplot])"
   ]
  },
  {
   "cell_type": "code",
   "execution_count": null,
   "id": "bcbae5dc",
   "metadata": {},
   "outputs": [],
   "source": []
  },
  {
   "cell_type": "code",
   "execution_count": null,
   "id": "96b0a6cd",
   "metadata": {},
   "outputs": [],
   "source": []
  }
 ],
 "metadata": {
  "kernelspec": {
   "display_name": "Python 3 (ipykernel)",
   "language": "python",
   "name": "python3"
  },
  "language_info": {
   "codemirror_mode": {
    "name": "ipython",
    "version": 3
   },
   "file_extension": ".py",
   "mimetype": "text/x-python",
   "name": "python",
   "nbconvert_exporter": "python",
   "pygments_lexer": "ipython3",
   "version": "3.13.5"
  },
  "widgets": {
   "application/vnd.jupyter.widget-state+json": {
    "state": {
     "0178155c7ca24da7a9fcafaabca07482": {
      "model_module": "@jupyter-widgets/output",
      "model_module_version": "1.0.0",
      "model_name": "OutputModel",
      "state": {
       "layout": "IPY_MODEL_94fad09285484a4f8cfbbfd4b49e33f8",
       "outputs": [
        {
         "name": "stdout",
         "output_type": "stream",
         "text": "5\n"
        }
       ]
      }
     },
     "03a53a4f2d104555b018d3c182b3e28b": {
      "model_module": "@jupyter-widgets/base",
      "model_module_version": "2.0.0",
      "model_name": "LayoutModel",
      "state": {
       "flex_flow": "row wrap"
      }
     },
     "044b3de0bb584d4d96cdbfe02c5f559a": {
      "model_module": "@jupyter-widgets/controls",
      "model_module_version": "2.0.0",
      "model_name": "DescriptionStyleModel",
      "state": {
       "description_width": ""
      }
     },
     "09d14b2d137d4fafb1d83460d7f70600": {
      "model_module": "@jupyter-widgets/base",
      "model_module_version": "2.0.0",
      "model_name": "LayoutModel",
      "state": {}
     },
     "0bd04dfd642348218bc549441816de92": {
      "model_module": "@jupyter-widgets/base",
      "model_module_version": "2.0.0",
      "model_name": "LayoutModel",
      "state": {}
     },
     "0f27ad0fa8754a958d5aea53ce84f30e": {
      "model_module": "@jupyter-widgets/controls",
      "model_module_version": "2.0.0",
      "model_name": "BoxModel",
      "state": {
       "children": [
        "IPY_MODEL_93f173d1466b41e59ccdd28483903753"
       ],
       "layout": "IPY_MODEL_745dd34e145a485d9832a90ecd1d3bda"
      }
     },
     "0f36533dcd7b409c8e0b13881def106f": {
      "model_module": "@jupyter-widgets/base",
      "model_module_version": "2.0.0",
      "model_name": "LayoutModel",
      "state": {
       "display": "flex",
       "flex_flow": "row"
      }
     },
     "1ee56caa0b394554ad779557aebaabb1": {
      "model_module": "@jupyter-widgets/base",
      "model_module_version": "2.0.0",
      "model_name": "LayoutModel",
      "state": {
       "flex_flow": "row wrap"
      }
     },
     "28926fc8121e48d991c6b4d39468269b": {
      "model_module": "@jupyter-widgets/controls",
      "model_module_version": "2.0.0",
      "model_name": "BoxModel",
      "state": {
       "children": [
        "IPY_MODEL_544b5abbd7494a1e9d97f64d8a7326cb"
       ],
       "layout": "IPY_MODEL_3d192a53bec34f07b0b7393278a9c673"
      }
     },
     "2e9ac7572665409285b5528761aa5500": {
      "model_module": "@jupyter-widgets/base",
      "model_module_version": "2.0.0",
      "model_name": "LayoutModel",
      "state": {}
     },
     "360384fec2f647ffa1d52c5db839c8e6": {
      "model_module": "@jupyter-widgets/controls",
      "model_module_version": "2.0.0",
      "model_name": "DescriptionStyleModel",
      "state": {
       "description_width": ""
      }
     },
     "3698362b63c84509bdefba815f9339c1": {
      "model_module": "@jupyter-widgets/base",
      "model_module_version": "2.0.0",
      "model_name": "LayoutModel",
      "state": {}
     },
     "3af75a56b4b44fe78b1821384dc35210": {
      "model_module": "@jupyter-widgets/base",
      "model_module_version": "2.0.0",
      "model_name": "LayoutModel",
      "state": {}
     },
     "3d192a53bec34f07b0b7393278a9c673": {
      "model_module": "@jupyter-widgets/base",
      "model_module_version": "2.0.0",
      "model_name": "LayoutModel",
      "state": {
       "height": "auto",
       "max_width": "15em"
      }
     },
     "3d3445fc4c1643d5a742a39bb5e1cb06": {
      "model_module": "@jupyter-widgets/controls",
      "model_module_version": "2.0.0",
      "model_name": "DescriptionStyleModel",
      "state": {
       "description_width": ""
      }
     },
     "3e7bb06542404f0e91eb8ea4a2e40e25": {
      "model_module": "@jupyter-widgets/controls",
      "model_module_version": "2.0.0",
      "model_name": "BoxModel",
      "state": {
       "children": [
        "IPY_MODEL_b37398c7d7394418adf7f8c4ac643d64"
       ],
       "layout": "IPY_MODEL_3d192a53bec34f07b0b7393278a9c673"
      }
     },
     "45ae4053ff4942879e42b8843ffa02af": {
      "model_module": "@jupyter-widgets/controls",
      "model_module_version": "2.0.0",
      "model_name": "DescriptionStyleModel",
      "state": {
       "description_width": ""
      }
     },
     "520a2265fd5e47e8a4938f7297284897": {
      "model_module": "@jupyter-widgets/controls",
      "model_module_version": "2.0.0",
      "model_name": "DropdownModel",
      "state": {
       "_options_labels": [
        "none",
        "species",
        "island",
        "bill_length_mm",
        "bill_depth_mm",
        "flipper_length_mm",
        "body_mass_g",
        "sex"
       ],
       "description": "Hue:",
       "index": 7,
       "layout": "IPY_MODEL_3af75a56b4b44fe78b1821384dc35210",
       "style": "IPY_MODEL_360384fec2f647ffa1d52c5db839c8e6"
      }
     },
     "544b5abbd7494a1e9d97f64d8a7326cb": {
      "model_module": "@jupyter-widgets/controls",
      "model_module_version": "2.0.0",
      "model_name": "DropdownModel",
      "state": {
       "_options_labels": [
        "none",
        "species",
        "island",
        "bill_length_mm",
        "bill_depth_mm",
        "flipper_length_mm",
        "body_mass_g",
        "sex"
       ],
       "description": "Y:",
       "index": 4,
       "layout": "IPY_MODEL_a80b5892c5384b558d24b790140e8e8c",
       "style": "IPY_MODEL_b93c38f326784152879c0752034b5b8e"
      }
     },
     "5989ff28174c4e33a0a20778619e5b05": {
      "model_module": "@jupyter-widgets/controls",
      "model_module_version": "2.0.0",
      "model_name": "ButtonStyleModel",
      "state": {
       "font_family": null,
       "font_size": null,
       "font_style": null,
       "font_variant": null,
       "font_weight": null,
       "text_color": null,
       "text_decoration": null
      }
     },
     "5e9d0e0b9eb74e408d4273b644b9b922": {
      "model_module": "@jupyter-widgets/controls",
      "model_module_version": "2.0.0",
      "model_name": "BoxModel",
      "state": {
       "children": [
        "IPY_MODEL_c48dc6ac3a7d409ba32fdcbb9b3e46ea"
       ],
       "layout": "IPY_MODEL_3d192a53bec34f07b0b7393278a9c673"
      }
     },
     "6311fffa221f4655811ba438b9d65e26": {
      "model_module": "@jupyter-widgets/controls",
      "model_module_version": "2.0.0",
      "model_name": "DescriptionStyleModel",
      "state": {
       "description_width": ""
      }
     },
     "6347d7055a9a4bd69aa39df912bdf672": {
      "model_module": "@jupyter-widgets/base",
      "model_module_version": "2.0.0",
      "model_name": "LayoutModel",
      "state": {}
     },
     "649f7de25a6548f49633802aa666d7c9": {
      "model_module": "@jupyter-widgets/controls",
      "model_module_version": "2.0.0",
      "model_name": "DescriptionStyleModel",
      "state": {
       "description_width": ""
      }
     },
     "6e68e0a9d1e74964899740908e0dacd1": {
      "model_module": "@jupyter-widgets/controls",
      "model_module_version": "2.0.0",
      "model_name": "BoxModel",
      "state": {
       "children": [
        "IPY_MODEL_520a2265fd5e47e8a4938f7297284897"
       ],
       "layout": "IPY_MODEL_745dd34e145a485d9832a90ecd1d3bda"
      }
     },
     "73d1169aa174481794b64e1e9c4ec639": {
      "model_module": "@jupyter-widgets/controls",
      "model_module_version": "2.0.0",
      "model_name": "DropdownModel",
      "state": {
       "_options_labels": [
        "none",
        "species",
        "island",
        "sex"
       ],
       "description": "Row:",
       "index": 0,
       "layout": "IPY_MODEL_0bd04dfd642348218bc549441816de92",
       "style": "IPY_MODEL_3d3445fc4c1643d5a742a39bb5e1cb06"
      }
     },
     "745dd34e145a485d9832a90ecd1d3bda": {
      "model_module": "@jupyter-widgets/base",
      "model_module_version": "2.0.0",
      "model_name": "LayoutModel",
      "state": {
       "height": "auto",
       "max_width": "15em"
      }
     },
     "7587f28067c64e078c4b6d125da102de": {
      "model_module": "@jupyter-widgets/controls",
      "model_module_version": "2.0.0",
      "model_name": "HBoxModel",
      "state": {
       "children": [
        "IPY_MODEL_8295ba5d2ddd4486887cc2ba963474d1",
        "IPY_MODEL_dbe1b8d41c3d40b898114aedc2ad4184",
        "IPY_MODEL_6e68e0a9d1e74964899740908e0dacd1",
        "IPY_MODEL_0f27ad0fa8754a958d5aea53ce84f30e"
       ],
       "layout": "IPY_MODEL_03a53a4f2d104555b018d3c182b3e28b"
      }
     },
     "76c896d6178b4cecab3cdd653705bb9c": {
      "model_module": "@jupyter-widgets/output",
      "model_module_version": "1.0.0",
      "model_name": "OutputModel",
      "state": {
       "layout": "IPY_MODEL_6347d7055a9a4bd69aa39df912bdf672"
      }
     },
     "813c3a59addd4ad7963395ea8348cf1d": {
      "model_module": "@jupyter-widgets/base",
      "model_module_version": "2.0.0",
      "model_name": "LayoutModel",
      "state": {}
     },
     "8187aa3edc904a4092f2cc3f1bd00226": {
      "model_module": "@jupyter-widgets/base",
      "model_module_version": "2.0.0",
      "model_name": "LayoutModel",
      "state": {
       "width": "15em"
      }
     },
     "8295ba5d2ddd4486887cc2ba963474d1": {
      "model_module": "@jupyter-widgets/controls",
      "model_module_version": "2.0.0",
      "model_name": "BoxModel",
      "state": {
       "children": [
        "IPY_MODEL_dc12591d47014f50a0f9ec2551dcc968"
       ],
       "layout": "IPY_MODEL_745dd34e145a485d9832a90ecd1d3bda"
      }
     },
     "84d2c840371b4321958c8f06bb5b04a3": {
      "model_module": "@jupyter-widgets/controls",
      "model_module_version": "2.0.0",
      "model_name": "BoxModel",
      "state": {
       "children": [
        "IPY_MODEL_a15b721d932e4af5b34d4b8be031df17"
       ],
       "layout": "IPY_MODEL_3d192a53bec34f07b0b7393278a9c673"
      }
     },
     "8bbf24eba54844fc84cc82763fa07eac": {
      "model_module": "@jupyter-widgets/controls",
      "model_module_version": "2.0.0",
      "model_name": "BoxModel",
      "state": {
       "children": [
        "IPY_MODEL_cc594a4042ef4d4cbe9681c31c20925a"
       ],
       "layout": "IPY_MODEL_3d192a53bec34f07b0b7393278a9c673"
      }
     },
     "93c32dc68f9b43ff9352d30dac12eef1": {
      "model_module": "@jupyter-widgets/base",
      "model_module_version": "2.0.0",
      "model_name": "LayoutModel",
      "state": {}
     },
     "93f173d1466b41e59ccdd28483903753": {
      "model_module": "@jupyter-widgets/controls",
      "model_module_version": "2.0.0",
      "model_name": "DropdownModel",
      "state": {
       "_options_labels": [
        "none",
        "scatterplot",
        "lineplot",
        "histplot",
        "kdeplot",
        "stripplot",
        "swarmplot",
        "boxplot",
        "violinplot",
        "boxenplot",
        "pointplot",
        "barplot",
        "countplot"
       ],
       "description": "Plot:",
       "index": 0,
       "layout": "IPY_MODEL_3698362b63c84509bdefba815f9339c1",
       "style": "IPY_MODEL_9e107f47b7f34efb87881f6c7e1a2212"
      }
     },
     "94fad09285484a4f8cfbbfd4b49e33f8": {
      "model_module": "@jupyter-widgets/base",
      "model_module_version": "2.0.0",
      "model_name": "LayoutModel",
      "state": {}
     },
     "95ecb48be186498a913a508477fbff47": {
      "model_module": "@jupyter-widgets/base",
      "model_module_version": "2.0.0",
      "model_name": "LayoutModel",
      "state": {
       "display": "flex",
       "flex_flow": "row"
      }
     },
     "9aefdf638306488e8d969e1cd62d081d": {
      "model_module": "@jupyter-widgets/controls",
      "model_module_version": "2.0.0",
      "model_name": "ButtonModel",
      "state": {
       "_dom_classes": [
        "button-spacing-class"
       ],
       "description": "Show plot",
       "layout": "IPY_MODEL_fbf11e88d5aa4700806713a059bcf471",
       "style": "IPY_MODEL_e8e3587028d54affae6ea97ea3cf261f",
       "tooltip": null
      }
     },
     "9af1844b7c4a4d519f791da42ab5e522": {
      "model_module": "@jupyter-widgets/base",
      "model_module_version": "2.0.0",
      "model_name": "LayoutModel",
      "state": {}
     },
     "9b96795d9d5c46bf81d671384096ea85": {
      "model_module": "@jupyter-widgets/controls",
      "model_module_version": "2.0.0",
      "model_name": "DescriptionStyleModel",
      "state": {
       "description_width": ""
      }
     },
     "9e107f47b7f34efb87881f6c7e1a2212": {
      "model_module": "@jupyter-widgets/controls",
      "model_module_version": "2.0.0",
      "model_name": "DescriptionStyleModel",
      "state": {
       "description_width": ""
      }
     },
     "a15b721d932e4af5b34d4b8be031df17": {
      "model_module": "@jupyter-widgets/controls",
      "model_module_version": "2.0.0",
      "model_name": "DropdownModel",
      "state": {
       "_options_labels": [
        "none",
        "species",
        "island",
        "sex"
       ],
       "description": "Col:",
       "index": 0,
       "layout": "IPY_MODEL_2e9ac7572665409285b5528761aa5500",
       "style": "IPY_MODEL_d5e0e788fb0f4cd797bc3dbe77da71e0"
      }
     },
     "a80b5892c5384b558d24b790140e8e8c": {
      "model_module": "@jupyter-widgets/base",
      "model_module_version": "2.0.0",
      "model_name": "LayoutModel",
      "state": {}
     },
     "a92a7d788caf4653b074fe5ccc75efbe": {
      "model_module": "@jupyter-widgets/base",
      "model_module_version": "2.0.0",
      "model_name": "LayoutModel",
      "state": {}
     },
     "aada81142ceb496f805e928113d9cac6": {
      "model_module": "@jupyter-widgets/controls",
      "model_module_version": "2.0.0",
      "model_name": "BoxModel",
      "state": {
       "children": [
        "IPY_MODEL_73d1169aa174481794b64e1e9c4ec639"
       ],
       "layout": "IPY_MODEL_3d192a53bec34f07b0b7393278a9c673"
      }
     },
     "ad4b837bdc674548b7f738bfab884ab6": {
      "model_module": "@jupyter-widgets/output",
      "model_module_version": "1.0.0",
      "model_name": "OutputModel",
      "state": {
       "layout": "IPY_MODEL_cd4ab0f636ee444aa53ba1b66c0a7dfe",
       "outputs": [
        {
         "data": {
          "text/markdown": "\n\n<details>\n<summary>Show code for plot</summary>\n<br>\n                             \n```python\nimport seaborn as sns\nsns.set_style({'style': 'darkgrid', 'palette': 'viridis'})                             \ng = sns.catplot(data, x='bill_length_mm', y='bill_depth_mm', hue='island', palette='muted', height=5, kind='violin')\ng.set_titles(col_template=\"{col_name}\", row_template=\"{row_name}\")\ng.tight_layout()\n```\n\n<br>    \nSee the <a href=https://seaborn.pydata.org/generated/seaborn.catplot.html >documentation</a> \nfor details and additional arguments to <code>sns.catplot</code>.\n\n</details>\n\n",
          "text/plain": "<IPython.core.display.Markdown object>"
         },
         "metadata": {},
         "output_type": "display_data"
        }
       ]
      }
     },
     "b123a979c6da4df985b578ef8a8f4df2": {
      "model_module": "@jupyter-widgets/base",
      "model_module_version": "2.0.0",
      "model_name": "LayoutModel",
      "state": {}
     },
     "b37398c7d7394418adf7f8c4ac643d64": {
      "model_module": "@jupyter-widgets/controls",
      "model_module_version": "2.0.0",
      "model_name": "DropdownModel",
      "state": {
       "_options_labels": [
        "none",
        "scatterplot",
        "lineplot",
        "histplot",
        "kdeplot",
        "stripplot",
        "swarmplot",
        "boxplot",
        "violinplot",
        "boxenplot",
        "pointplot",
        "barplot",
        "countplot"
       ],
       "description": "Plot:",
       "index": 8,
       "layout": "IPY_MODEL_93c32dc68f9b43ff9352d30dac12eef1",
       "style": "IPY_MODEL_6311fffa221f4655811ba438b9d65e26"
      }
     },
     "b93c38f326784152879c0752034b5b8e": {
      "model_module": "@jupyter-widgets/controls",
      "model_module_version": "2.0.0",
      "model_name": "DescriptionStyleModel",
      "state": {
       "description_width": ""
      }
     },
     "c024fdeea90a441984890b04947273e5": {
      "model_module": "@jupyter-widgets/output",
      "model_module_version": "1.0.0",
      "model_name": "OutputModel",
      "state": {
       "layout": "IPY_MODEL_def7227dfbda4e6098dfec7ce88f2d44"
      }
     },
     "c463ed5ebfc948b1bbefd2f7c3a3f3c5": {
      "model_module": "@jupyter-widgets/base",
      "model_module_version": "2.0.0",
      "model_name": "LayoutModel",
      "state": {}
     },
     "c48dc6ac3a7d409ba32fdcbb9b3e46ea": {
      "model_module": "@jupyter-widgets/controls",
      "model_module_version": "2.0.0",
      "model_name": "DropdownModel",
      "state": {
       "_options_labels": [
        "none",
        "species",
        "island",
        "bill_length_mm",
        "bill_depth_mm",
        "flipper_length_mm",
        "body_mass_g",
        "sex"
       ],
       "description": "X:",
       "index": 3,
       "layout": "IPY_MODEL_09d14b2d137d4fafb1d83460d7f70600",
       "style": "IPY_MODEL_45ae4053ff4942879e42b8843ffa02af"
      }
     },
     "cc594a4042ef4d4cbe9681c31c20925a": {
      "model_module": "@jupyter-widgets/controls",
      "model_module_version": "2.0.0",
      "model_name": "DropdownModel",
      "state": {
       "_options_labels": [
        "none",
        "species",
        "island",
        "bill_length_mm",
        "bill_depth_mm",
        "flipper_length_mm",
        "body_mass_g",
        "sex"
       ],
       "description": "Hue:",
       "index": 2,
       "layout": "IPY_MODEL_b123a979c6da4df985b578ef8a8f4df2",
       "style": "IPY_MODEL_9b96795d9d5c46bf81d671384096ea85"
      }
     },
     "cd4ab0f636ee444aa53ba1b66c0a7dfe": {
      "model_module": "@jupyter-widgets/base",
      "model_module_version": "2.0.0",
      "model_name": "LayoutModel",
      "state": {}
     },
     "d5e0e788fb0f4cd797bc3dbe77da71e0": {
      "model_module": "@jupyter-widgets/controls",
      "model_module_version": "2.0.0",
      "model_name": "DescriptionStyleModel",
      "state": {
       "description_width": ""
      }
     },
     "dbe1b8d41c3d40b898114aedc2ad4184": {
      "model_module": "@jupyter-widgets/controls",
      "model_module_version": "2.0.0",
      "model_name": "BoxModel",
      "state": {
       "children": [
        "IPY_MODEL_ee7176171ce64e2585d5ed6bfd5433b8"
       ],
       "layout": "IPY_MODEL_745dd34e145a485d9832a90ecd1d3bda"
      }
     },
     "dc12591d47014f50a0f9ec2551dcc968": {
      "model_module": "@jupyter-widgets/controls",
      "model_module_version": "2.0.0",
      "model_name": "DropdownModel",
      "state": {
       "_options_labels": [
        "none",
        "species",
        "island",
        "bill_length_mm",
        "bill_depth_mm",
        "flipper_length_mm",
        "body_mass_g",
        "sex"
       ],
       "description": "X:",
       "index": 1,
       "layout": "IPY_MODEL_c463ed5ebfc948b1bbefd2f7c3a3f3c5",
       "style": "IPY_MODEL_044b3de0bb584d4d96cdbfe02c5f559a"
      }
     },
     "def7227dfbda4e6098dfec7ce88f2d44": {
      "model_module": "@jupyter-widgets/base",
      "model_module_version": "2.0.0",
      "model_name": "LayoutModel",
      "state": {}
     },
     "e629caed4eed4978bd04408b985fac1c": {
      "model_module": "@jupyter-widgets/output",
      "model_module_version": "1.0.0",
      "model_name": "OutputModel",
      "state": {
       "layout": "IPY_MODEL_9af1844b7c4a4d519f791da42ab5e522",
       "outputs": [
        {
         "data": {
          "image/png": "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",
          "text/plain": "<Figure size 617.75x500 with 1 Axes>"
         },
         "metadata": {
          "image/png": {
           "height": 490,
           "width": 616
          }
         },
         "output_type": "display_data"
        }
       ]
      }
     },
     "e8e3587028d54affae6ea97ea3cf261f": {
      "model_module": "@jupyter-widgets/controls",
      "model_module_version": "2.0.0",
      "model_name": "ButtonStyleModel",
      "state": {
       "font_family": null,
       "font_size": null,
       "font_style": null,
       "font_variant": null,
       "font_weight": null,
       "text_color": null,
       "text_decoration": null
      }
     },
     "ec51b36725ae444eb5574518e664bf24": {
      "model_module": "@jupyter-widgets/controls",
      "model_module_version": "2.0.0",
      "model_name": "ButtonModel",
      "state": {
       "_dom_classes": [
        "button-spacing-class"
       ],
       "description": "Show plot",
       "layout": "IPY_MODEL_8187aa3edc904a4092f2cc3f1bd00226",
       "style": "IPY_MODEL_5989ff28174c4e33a0a20778619e5b05",
       "tooltip": null
      }
     },
     "ee7176171ce64e2585d5ed6bfd5433b8": {
      "model_module": "@jupyter-widgets/controls",
      "model_module_version": "2.0.0",
      "model_name": "DropdownModel",
      "state": {
       "_options_labels": [
        "none",
        "species",
        "island",
        "bill_length_mm",
        "bill_depth_mm",
        "flipper_length_mm",
        "body_mass_g",
        "sex"
       ],
       "description": "Y:",
       "index": 6,
       "layout": "IPY_MODEL_a92a7d788caf4653b074fe5ccc75efbe",
       "style": "IPY_MODEL_649f7de25a6548f49633802aa666d7c9"
      }
     },
     "f21085850e8443ad90eb11dd75db2379": {
      "model_module": "@jupyter-widgets/controls",
      "model_module_version": "2.0.0",
      "model_name": "HBoxModel",
      "state": {
       "children": [
        "IPY_MODEL_5e9d0e0b9eb74e408d4273b644b9b922",
        "IPY_MODEL_28926fc8121e48d991c6b4d39468269b",
        "IPY_MODEL_8bbf24eba54844fc84cc82763fa07eac",
        "IPY_MODEL_aada81142ceb496f805e928113d9cac6",
        "IPY_MODEL_84d2c840371b4321958c8f06bb5b04a3",
        "IPY_MODEL_3e7bb06542404f0e91eb8ea4a2e40e25"
       ],
       "layout": "IPY_MODEL_1ee56caa0b394554ad779557aebaabb1"
      }
     },
     "f815c2d7496d4cef8e1d9cf0b358f6fc": {
      "model_module": "@jupyter-widgets/controls",
      "model_module_version": "2.0.0",
      "model_name": "HBoxModel",
      "state": {
       "children": [
        "IPY_MODEL_f21085850e8443ad90eb11dd75db2379",
        "IPY_MODEL_ec51b36725ae444eb5574518e664bf24"
       ],
       "layout": "IPY_MODEL_0f36533dcd7b409c8e0b13881def106f"
      }
     },
     "f83bf5b508004ba0928526947e88f33f": {
      "model_module": "@jupyter-widgets/output",
      "model_module_version": "1.0.0",
      "model_name": "OutputModel",
      "state": {
       "layout": "IPY_MODEL_813c3a59addd4ad7963395ea8348cf1d"
      }
     },
     "f924eacac0484c5fb66564f558e8bfb8": {
      "model_module": "@jupyter-widgets/controls",
      "model_module_version": "2.0.0",
      "model_name": "HBoxModel",
      "state": {
       "children": [
        "IPY_MODEL_7587f28067c64e078c4b6d125da102de",
        "IPY_MODEL_9aefdf638306488e8d969e1cd62d081d"
       ],
       "layout": "IPY_MODEL_95ecb48be186498a913a508477fbff47"
      }
     },
     "fbf11e88d5aa4700806713a059bcf471": {
      "model_module": "@jupyter-widgets/base",
      "model_module_version": "2.0.0",
      "model_name": "LayoutModel",
      "state": {
       "width": "15em"
      }
     }
    },
    "version_major": 2,
    "version_minor": 0
   }
  }
 },
 "nbformat": 4,
 "nbformat_minor": 5
}
