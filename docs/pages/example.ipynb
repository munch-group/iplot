{
 "cells": [
  {
   "cell_type": "markdown",
   "id": "a1094ac9-1c7f-4489-a59b-b0d60cfa6ed8",
   "metadata": {},
   "source": [
    "# Example"
   ]
  },
  {
   "cell_type": "code",
   "execution_count": null,
   "id": "a3837104-aef5-4d48-bfdd-3eaeffd0cd0d",
   "metadata": {},
   "outputs": [],
   "source": [
    "import pandas as pd\n",
    "import seaborn as sns\n",
    "from iplot import iplot, iplot_settings"
   ]
  },
  {
   "cell_type": "markdown",
   "id": "a6c0e75f-3b0d-4357-aaad-9096ec674b97",
   "metadata": {},
   "source": [
    "## Dummy data"
   ]
  },
  {
   "cell_type": "code",
   "execution_count": null,
   "id": "530faa18-6fda-4473-8ac0-0bc8eee34a00",
   "metadata": {},
   "outputs": [],
   "source": [
    "data_frame = sns.load_dataset('penguins')\n",
    "data_frame.head()"
   ]
  },
  {
   "cell_type": "markdown",
   "id": "1d2eae56-5a73-4290-b41d-4f0bcc19e20e",
   "metadata": {},
   "source": [
    "## Show the widget"
   ]
  },
  {
   "cell_type": "code",
   "execution_count": null,
   "id": "d5b9c67e-d64d-43d6-94f0-cd0536586181",
   "metadata": {},
   "outputs": [],
   "source": [
    "iplot(data_frame)"
   ]
  },
  {
   "cell_type": "code",
   "execution_count": null,
   "id": "f24cda8a",
   "metadata": {},
   "outputs": [],
   "source": []
  },
  {
   "cell_type": "code",
   "execution_count": null,
   "id": "41599c25",
   "metadata": {},
   "outputs": [],
   "source": [
    "iplot(data_frame, x='bill_length_mm', y='bill_depth_mm', hue='species', col='island', row='sex')"
   ]
  },
  {
   "cell_type": "code",
   "execution_count": null,
   "id": "2ffe38eb",
   "metadata": {},
   "outputs": [],
   "source": []
  }
 ],
 "metadata": {
  "kernelspec": {
   "display_name": "default",
   "language": "python",
   "name": "python3"
  },
  "language_info": {
   "codemirror_mode": {
    "name": "ipython",
    "version": 3
   },
   "file_extension": ".py",
   "mimetype": "text/x-python",
   "name": "python",
   "nbconvert_exporter": "python",
   "pygments_lexer": "ipython3",
   "version": "3.13.7"
  },
  "widgets": {
   "application/vnd.jupyter.widget-state+json": {
    "state": {
     "0abc1cceef40435f89304ced3e09ce75": {
      "model_module": "@jupyter-widgets/controls",
      "model_module_version": "2.0.0",
      "model_name": "HBoxModel",
      "state": {
       "children": [
        "IPY_MODEL_b19edce1c33a43498278f981627a4955",
        "IPY_MODEL_c37bc0231e544315bc3b8b76d121840f",
        "IPY_MODEL_d31f8ddd859e49d188714c47edfafaaf",
        "IPY_MODEL_4a138b7e090743e4829b3ad157df67f5",
        "IPY_MODEL_f771ef9993b44f5fa46b7918bc657e42",
        "IPY_MODEL_a681db78cfca4ee395cac91b49f84061"
       ],
       "layout": "IPY_MODEL_1db66ce4be114048a4c0968116ac387c"
      }
     },
     "0d4c1d1255054955b52d64b1e01e3396": {
      "model_module": "@jupyter-widgets/output",
      "model_module_version": "1.0.0",
      "model_name": "OutputModel",
      "state": {
       "layout": "IPY_MODEL_54e6a1de6a2e4cb9a3318f14d7862348"
      }
     },
     "0fdf685572c844b19fba99f4288fd1a0": {
      "model_module": "@jupyter-widgets/base",
      "model_module_version": "2.0.0",
      "model_name": "LayoutModel",
      "state": {}
     },
     "1684cf4364924f3b80b8e5ea71ddcbd0": {
      "model_module": "@jupyter-widgets/controls",
      "model_module_version": "2.0.0",
      "model_name": "DropdownModel",
      "state": {
       "_options_labels": [
        "none",
        "gene_id",
        "gene_name",
        "chromosome",
        "start_position",
        "end_position",
        "ensembl_id",
        "refseq_id",
        "uniprot_id",
        "hgnc_id",
        "omim_id",
        "gene_type",
        "gene_length",
        "exon_count",
        "transcript_count",
        "gc_content",
        "strand",
        "is_essential",
        "is_housekeeping",
        "paralogs_count",
        "orthologs_count",
        "gtex_adipose_subcutaneous",
        "gtex_adipose_visceral_omentum",
        "gtex_adrenal_gland",
        "gtex_artery_aorta",
        "gtex_artery_coronary",
        "gtex_artery_tibial",
        "gtex_bladder",
        "gtex_brain_amygdala",
        "gtex_brain_anterior_cingulate_cortex_ba24",
        "gtex_brain_caudate_basal_ganglia",
        "gtex_brain_cerebellar_hemisphere",
        "gtex_brain_cerebellum",
        "gtex_brain_cortex",
        "gtex_brain_frontal_cortex_ba9",
        "gtex_brain_hippocampus",
        "gtex_brain_hypothalamus",
        "gtex_brain_nucleus_accumbens_basal_ganglia",
        "gtex_brain_putamen_basal_ganglia",
        "gtex_brain_spinal_cord_cervical_c1",
        "gtex_brain_substantia_nigra",
        "gtex_breast_mammary_tissue",
        "gtex_cells_cultured_fibroblasts",
        "gtex_cells_ebv_transformed_lymphocytes",
        "gtex_cervix_ectocervix",
        "gtex_cervix_endocervix",
        "gtex_colon_sigmoid",
        "gtex_colon_transverse",
        "gtex_esophagus_gastroesophageal_junction",
        "gtex_esophagus_mucosa",
        "gtex_esophagus_muscularis",
        "gtex_fallopian_tube",
        "gtex_heart_atrial_appendage",
        "gtex_heart_left_ventricle",
        "gtex_kidney_cortex",
        "gtex_kidney_medulla",
        "gtex_liver",
        "gtex_lung",
        "gtex_minor_salivary_gland",
        "gtex_muscle_skeletal",
        "gtex_nerve_tibial",
        "gtex_ovary",
        "gtex_pancreas",
        "gtex_pituitary",
        "gtex_prostate",
        "gtex_skin_not_sun_exposed_suprapubic",
        "gtex_skin_sun_exposed_lower_leg",
        "gtex_small_intestine_terminal_ileum",
        "gtex_spleen",
        "gtex_stomach",
        "gtex_testis",
        "gtex_thyroid",
        "gtex_uterus",
        "gtex_vagina",
        "gtex_whole_blood",
        "protein_length",
        "molecular_weight",
        "isoelectric_point",
        "instability_index",
        "aliphatic_index",
        "gravy_score",
        "domains_count",
        "transmembrane_domains",
        "signal_peptide",
        "subcellular_location",
        "mean_expression_all_tissues",
        "max_expression_all_tissues",
        "min_expression_all_tissues",
        "std_expression_all_tissues",
        "cv_expression",
        "tissues_expressed_count",
        "highly_expressed_tissues",
        "tissue_specificity_tau",
        "max_expression_tissue",
        "data_source",
        "last_updated",
        "version"
       ],
       "description": "Hue:",
       "index": 0,
       "layout": "IPY_MODEL_0fdf685572c844b19fba99f4288fd1a0",
       "style": "IPY_MODEL_d40920e181e64617939b6f29b4cdbe0f"
      }
     },
     "1a6a6be54f3a4022a39fedbe9214d8d8": {
      "model_module": "@jupyter-widgets/base",
      "model_module_version": "2.0.0",
      "model_name": "LayoutModel",
      "state": {}
     },
     "1db66ce4be114048a4c0968116ac387c": {
      "model_module": "@jupyter-widgets/base",
      "model_module_version": "2.0.0",
      "model_name": "LayoutModel",
      "state": {
       "flex_flow": "row wrap"
      }
     },
     "211d723718bc4c0ebeffd08a56f2b4f8": {
      "model_module": "@jupyter-widgets/base",
      "model_module_version": "2.0.0",
      "model_name": "LayoutModel",
      "state": {
       "display": "flex",
       "flex_flow": "row"
      }
     },
     "24597bc12ff143658e8ffb8504224cd5": {
      "model_module": "@jupyter-widgets/controls",
      "model_module_version": "2.0.0",
      "model_name": "DescriptionStyleModel",
      "state": {
       "description_width": ""
      }
     },
     "2858e483e9bd4a86952fb94f4418c517": {
      "model_module": "@jupyter-widgets/controls",
      "model_module_version": "2.0.0",
      "model_name": "DropdownModel",
      "state": {
       "_options_labels": [
        "none",
        "scatterplot",
        "lineplot",
        "histplot",
        "kdeplot",
        "stripplot",
        "swarmplot",
        "boxplot",
        "violinplot",
        "boxenplot",
        "pointplot",
        "barplot",
        "countplot"
       ],
       "description": "Plot:",
       "index": 7,
       "layout": "IPY_MODEL_52fe538cb78942668fe9ae34a479410c",
       "style": "IPY_MODEL_beb50feb052b4f1fa13c1a8e60cb2866"
      }
     },
     "2a4ae40524114c119f925cd3cc62159a": {
      "model_module": "@jupyter-widgets/controls",
      "model_module_version": "2.0.0",
      "model_name": "DescriptionStyleModel",
      "state": {
       "description_width": ""
      }
     },
     "2df9d036a03549aea93768cceda9e93a": {
      "model_module": "@jupyter-widgets/controls",
      "model_module_version": "2.0.0",
      "model_name": "ButtonStyleModel",
      "state": {
       "font_family": null,
       "font_size": null,
       "font_style": null,
       "font_variant": null,
       "font_weight": null,
       "text_color": null,
       "text_decoration": null
      }
     },
     "2f409d0f165c4afe8ff674344811b20e": {
      "model_module": "@jupyter-widgets/controls",
      "model_module_version": "2.0.0",
      "model_name": "ButtonModel",
      "state": {
       "_dom_classes": [
        "button-spacing-class"
       ],
       "description": "Show plot",
       "layout": "IPY_MODEL_5c22dd3883fe4278a009941f128345dc",
       "style": "IPY_MODEL_2df9d036a03549aea93768cceda9e93a",
       "tooltip": null
      }
     },
     "323a70571b8b47649615e0bf852e9b7a": {
      "model_module": "@jupyter-widgets/base",
      "model_module_version": "2.0.0",
      "model_name": "LayoutModel",
      "state": {}
     },
     "351454fb992443a289017053cbc3df36": {
      "model_module": "@jupyter-widgets/output",
      "model_module_version": "1.0.0",
      "model_name": "OutputModel",
      "state": {
       "layout": "IPY_MODEL_c7169ec365a84325bf4b80d7d95eaf8d",
       "outputs": [
        {
         "data": {
          "image/png": "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",
          "text/plain": "<Figure size 511.111x500 with 1 Axes>"
         },
         "metadata": {
          "image/png": {
           "height": 490,
           "width": 509
          }
         },
         "output_type": "display_data"
        }
       ]
      }
     },
     "36ca23e3df5f49cc8a8ac543aca952e4": {
      "model_module": "@jupyter-widgets/controls",
      "model_module_version": "2.0.0",
      "model_name": "BoxModel",
      "state": {
       "children": [
        "IPY_MODEL_993e12686b83409b9fe058253a5e960f"
       ],
       "layout": "IPY_MODEL_cc86fc7dd22044ad8cdbd0a7c8d1974e"
      }
     },
     "3b4651ec9b1741b1a48a67449053cb2a": {
      "model_module": "@jupyter-widgets/output",
      "model_module_version": "1.0.0",
      "model_name": "OutputModel",
      "state": {
       "layout": "IPY_MODEL_aa95637c3a654a17a20a3a6d158715a0",
       "outputs": [
        {
         "data": {
          "text/markdown": "\n\n<details>\n<summary>Show code for plot</summary>\n<br>\n                             \n```python\nimport seaborn as sns\nsns.set_style({'style': 'darkgrid', 'palette': 'viridis'})                             \ng = sns.catplot(data, x='chromosome', y='gtex_brain_cortex', gap=0.1, dodge=True, height=5, kind='box')\ng.set_titles(col_template=\"{col_name}\", row_template=\"{row_name}\")\ng.tight_layout()\n```\n\n<br>    \nSee the <a href=https://seaborn.pydata.org/generated/seaborn.catplot.html >documentation</a> \nfor details and additional arguments to <code>sns.catplot</code>.\n\n</details>\n\n",
          "text/plain": "<IPython.core.display.Markdown object>"
         },
         "metadata": {},
         "output_type": "display_data"
        }
       ]
      }
     },
     "47833eae810148b4a2848f1a254abc19": {
      "model_module": "@jupyter-widgets/controls",
      "model_module_version": "2.0.0",
      "model_name": "DropdownModel",
      "state": {
       "_options_labels": [
        "none",
        "species",
        "island",
        "sex"
       ],
       "description": "Col:",
       "index": 0,
       "layout": "IPY_MODEL_323a70571b8b47649615e0bf852e9b7a",
       "style": "IPY_MODEL_710a94cefd8d4efaaac8af2430b3afa9"
      }
     },
     "4a138b7e090743e4829b3ad157df67f5": {
      "model_module": "@jupyter-widgets/controls",
      "model_module_version": "2.0.0",
      "model_name": "BoxModel",
      "state": {
       "children": [
        "IPY_MODEL_69fe68b4f09240e8a43e32ce9176a7cb"
       ],
       "layout": "IPY_MODEL_a8247148aade4eac81d0080dbfb49dbe"
      }
     },
     "4c07301ced7741879d9d17aae6ecc623": {
      "model_module": "@jupyter-widgets/base",
      "model_module_version": "2.0.0",
      "model_name": "LayoutModel",
      "state": {}
     },
     "4e221ae0bddb4483ba3750dad74a5ee4": {
      "model_module": "@jupyter-widgets/base",
      "model_module_version": "2.0.0",
      "model_name": "LayoutModel",
      "state": {}
     },
     "52fe538cb78942668fe9ae34a479410c": {
      "model_module": "@jupyter-widgets/base",
      "model_module_version": "2.0.0",
      "model_name": "LayoutModel",
      "state": {}
     },
     "54e6a1de6a2e4cb9a3318f14d7862348": {
      "model_module": "@jupyter-widgets/base",
      "model_module_version": "2.0.0",
      "model_name": "LayoutModel",
      "state": {}
     },
     "5520da0aaf494f48bd6dfa4fb37a8850": {
      "model_module": "@jupyter-widgets/controls",
      "model_module_version": "2.0.0",
      "model_name": "ButtonStyleModel",
      "state": {
       "font_family": null,
       "font_size": null,
       "font_style": null,
       "font_variant": null,
       "font_weight": null,
       "text_color": null,
       "text_decoration": null
      }
     },
     "5bb372e670bf4347a8f1468dc1fbc767": {
      "model_module": "@jupyter-widgets/base",
      "model_module_version": "2.0.0",
      "model_name": "LayoutModel",
      "state": {
       "width": "15em"
      }
     },
     "5c22dd3883fe4278a009941f128345dc": {
      "model_module": "@jupyter-widgets/base",
      "model_module_version": "2.0.0",
      "model_name": "LayoutModel",
      "state": {
       "width": "15em"
      }
     },
     "5d1f59a46afe4f639f6bb05b58e954b9": {
      "model_module": "@jupyter-widgets/controls",
      "model_module_version": "2.0.0",
      "model_name": "DropdownModel",
      "state": {
       "_options_labels": [
        "none",
        "gene_id",
        "gene_name",
        "chromosome",
        "start_position",
        "end_position",
        "ensembl_id",
        "refseq_id",
        "uniprot_id",
        "hgnc_id",
        "omim_id",
        "gene_type",
        "gene_length",
        "exon_count",
        "transcript_count",
        "gc_content",
        "strand",
        "is_essential",
        "is_housekeeping",
        "paralogs_count",
        "orthologs_count",
        "gtex_adipose_subcutaneous",
        "gtex_adipose_visceral_omentum",
        "gtex_adrenal_gland",
        "gtex_artery_aorta",
        "gtex_artery_coronary",
        "gtex_artery_tibial",
        "gtex_bladder",
        "gtex_brain_amygdala",
        "gtex_brain_anterior_cingulate_cortex_ba24",
        "gtex_brain_caudate_basal_ganglia",
        "gtex_brain_cerebellar_hemisphere",
        "gtex_brain_cerebellum",
        "gtex_brain_cortex",
        "gtex_brain_frontal_cortex_ba9",
        "gtex_brain_hippocampus",
        "gtex_brain_hypothalamus",
        "gtex_brain_nucleus_accumbens_basal_ganglia",
        "gtex_brain_putamen_basal_ganglia",
        "gtex_brain_spinal_cord_cervical_c1",
        "gtex_brain_substantia_nigra",
        "gtex_breast_mammary_tissue",
        "gtex_cells_cultured_fibroblasts",
        "gtex_cells_ebv_transformed_lymphocytes",
        "gtex_cervix_ectocervix",
        "gtex_cervix_endocervix",
        "gtex_colon_sigmoid",
        "gtex_colon_transverse",
        "gtex_esophagus_gastroesophageal_junction",
        "gtex_esophagus_mucosa",
        "gtex_esophagus_muscularis",
        "gtex_fallopian_tube",
        "gtex_heart_atrial_appendage",
        "gtex_heart_left_ventricle",
        "gtex_kidney_cortex",
        "gtex_kidney_medulla",
        "gtex_liver",
        "gtex_lung",
        "gtex_minor_salivary_gland",
        "gtex_muscle_skeletal",
        "gtex_nerve_tibial",
        "gtex_ovary",
        "gtex_pancreas",
        "gtex_pituitary",
        "gtex_prostate",
        "gtex_skin_not_sun_exposed_suprapubic",
        "gtex_skin_sun_exposed_lower_leg",
        "gtex_small_intestine_terminal_ileum",
        "gtex_spleen",
        "gtex_stomach",
        "gtex_testis",
        "gtex_thyroid",
        "gtex_uterus",
        "gtex_vagina",
        "gtex_whole_blood",
        "protein_length",
        "molecular_weight",
        "isoelectric_point",
        "instability_index",
        "aliphatic_index",
        "gravy_score",
        "domains_count",
        "transmembrane_domains",
        "signal_peptide",
        "subcellular_location",
        "mean_expression_all_tissues",
        "max_expression_all_tissues",
        "min_expression_all_tissues",
        "std_expression_all_tissues",
        "cv_expression",
        "tissues_expressed_count",
        "highly_expressed_tissues",
        "tissue_specificity_tau",
        "max_expression_tissue",
        "data_source",
        "last_updated",
        "version"
       ],
       "description": "X:",
       "index": 3,
       "layout": "IPY_MODEL_1a6a6be54f3a4022a39fedbe9214d8d8",
       "style": "IPY_MODEL_9657ff2e373b40e9b8e3fce8dfc836b6"
      }
     },
     "604c60d9184d406184eac6e0d4ec0030": {
      "model_module": "@jupyter-widgets/base",
      "model_module_version": "2.0.0",
      "model_name": "LayoutModel",
      "state": {}
     },
     "607fa6fcb5484e9eb4278778a7948084": {
      "model_module": "@jupyter-widgets/base",
      "model_module_version": "2.0.0",
      "model_name": "LayoutModel",
      "state": {}
     },
     "6238409adf904dc1b8bbbb9122aa5b34": {
      "model_module": "@jupyter-widgets/controls",
      "model_module_version": "2.0.0",
      "model_name": "DropdownModel",
      "state": {
       "_options_labels": [
        "none"
       ],
       "description": "Plot:",
       "index": 0,
       "layout": "IPY_MODEL_da5bef08b6b9470b884001e8651304d4",
       "style": "IPY_MODEL_b47d8725220544cbad3e792d2eb9e6b4"
      }
     },
     "6869971e70e34bad8852711f9ce9c9a7": {
      "model_module": "@jupyter-widgets/controls",
      "model_module_version": "2.0.0",
      "model_name": "DescriptionStyleModel",
      "state": {
       "description_width": ""
      }
     },
     "69fe68b4f09240e8a43e32ce9176a7cb": {
      "model_module": "@jupyter-widgets/controls",
      "model_module_version": "2.0.0",
      "model_name": "DropdownModel",
      "state": {
       "_options_labels": [
        "none",
        "species",
        "island",
        "sex"
       ],
       "description": "Row:",
       "index": 0,
       "layout": "IPY_MODEL_4e221ae0bddb4483ba3750dad74a5ee4",
       "style": "IPY_MODEL_2a4ae40524114c119f925cd3cc62159a"
      }
     },
     "6a853a8d51d04774a39ff185137c4680": {
      "model_module": "@jupyter-widgets/controls",
      "model_module_version": "2.0.0",
      "model_name": "BoxModel",
      "state": {
       "children": [
        "IPY_MODEL_1684cf4364924f3b80b8e5ea71ddcbd0"
       ],
       "layout": "IPY_MODEL_cc86fc7dd22044ad8cdbd0a7c8d1974e"
      }
     },
     "706f6df5630c4938a9fa829c680f56ce": {
      "model_module": "@jupyter-widgets/base",
      "model_module_version": "2.0.0",
      "model_name": "LayoutModel",
      "state": {}
     },
     "710a94cefd8d4efaaac8af2430b3afa9": {
      "model_module": "@jupyter-widgets/controls",
      "model_module_version": "2.0.0",
      "model_name": "DescriptionStyleModel",
      "state": {
       "description_width": ""
      }
     },
     "7416a7c895e5476bb955a4ed475048ff": {
      "model_module": "@jupyter-widgets/output",
      "model_module_version": "1.0.0",
      "model_name": "OutputModel",
      "state": {
       "layout": "IPY_MODEL_604c60d9184d406184eac6e0d4ec0030"
      }
     },
     "8255d96b475d4b5cbd1ff79fca81ee99": {
      "model_module": "@jupyter-widgets/base",
      "model_module_version": "2.0.0",
      "model_name": "LayoutModel",
      "state": {}
     },
     "8264fe0a672545f2a3687b447265d39f": {
      "model_module": "@jupyter-widgets/controls",
      "model_module_version": "2.0.0",
      "model_name": "HBoxModel",
      "state": {
       "children": [
        "IPY_MODEL_b3723ccda2674fc6a44e5aab1ca669f6",
        "IPY_MODEL_df119cf3e2e444df8f2dda423f35c3a3"
       ],
       "layout": "IPY_MODEL_211d723718bc4c0ebeffd08a56f2b4f8"
      }
     },
     "85d4ba87636143f780896b548a842686": {
      "model_module": "@jupyter-widgets/base",
      "model_module_version": "2.0.0",
      "model_name": "LayoutModel",
      "state": {}
     },
     "875ef884333847a499b13ea60ad3b506": {
      "model_module": "@jupyter-widgets/base",
      "model_module_version": "2.0.0",
      "model_name": "LayoutModel",
      "state": {
       "display": "flex",
       "flex_flow": "row"
      }
     },
     "88a35b64f8834ea5932bc650c513f029": {
      "model_module": "@jupyter-widgets/controls",
      "model_module_version": "2.0.0",
      "model_name": "DescriptionStyleModel",
      "state": {
       "description_width": ""
      }
     },
     "8f682ba2cf364de0890124156177d7d4": {
      "model_module": "@jupyter-widgets/controls",
      "model_module_version": "2.0.0",
      "model_name": "BoxModel",
      "state": {
       "children": [
        "IPY_MODEL_2858e483e9bd4a86952fb94f4418c517"
       ],
       "layout": "IPY_MODEL_cc86fc7dd22044ad8cdbd0a7c8d1974e"
      }
     },
     "907dfe7ddf9b4f98b960ba137ad21b6f": {
      "model_module": "@jupyter-widgets/controls",
      "model_module_version": "2.0.0",
      "model_name": "DropdownModel",
      "state": {
       "_options_labels": [
        "none",
        "species",
        "island",
        "bill_length_mm",
        "bill_depth_mm",
        "flipper_length_mm",
        "body_mass_g",
        "sex"
       ],
       "description": "Hue:",
       "index": 0,
       "layout": "IPY_MODEL_4c07301ced7741879d9d17aae6ecc623",
       "style": "IPY_MODEL_a32d2ecbc3764f0abefe5f34e98b7345"
      }
     },
     "909bffe636fc49ec9961a6c7d897721b": {
      "model_module": "@jupyter-widgets/controls",
      "model_module_version": "2.0.0",
      "model_name": "DropdownModel",
      "state": {
       "_options_labels": [
        "none",
        "species",
        "island",
        "bill_length_mm",
        "bill_depth_mm",
        "flipper_length_mm",
        "body_mass_g",
        "sex"
       ],
       "description": "Y:",
       "index": 0,
       "layout": "IPY_MODEL_706f6df5630c4938a9fa829c680f56ce",
       "style": "IPY_MODEL_f078220b0a45426da6928a58bc0a79ee"
      }
     },
     "917a67afb28645eabeda2a98cb841b2b": {
      "model_module": "@jupyter-widgets/controls",
      "model_module_version": "2.0.0",
      "model_name": "DropdownModel",
      "state": {
       "_options_labels": [
        "none",
        "gene_name",
        "chromosome",
        "ensembl_id",
        "refseq_id",
        "uniprot_id",
        "hgnc_id",
        "gene_type",
        "strand",
        "subcellular_location",
        "max_expression_tissue",
        "data_source",
        "last_updated"
       ],
       "description": "Col:",
       "index": 0,
       "layout": "IPY_MODEL_aeea988010b9418e93301a7613f62b8d",
       "style": "IPY_MODEL_24597bc12ff143658e8ffb8504224cd5"
      }
     },
     "9657ff2e373b40e9b8e3fce8dfc836b6": {
      "model_module": "@jupyter-widgets/controls",
      "model_module_version": "2.0.0",
      "model_name": "DescriptionStyleModel",
      "state": {
       "description_width": ""
      }
     },
     "993e12686b83409b9fe058253a5e960f": {
      "model_module": "@jupyter-widgets/controls",
      "model_module_version": "2.0.0",
      "model_name": "DropdownModel",
      "state": {
       "_options_labels": [
        "none",
        "gene_id",
        "gene_name",
        "chromosome",
        "start_position",
        "end_position",
        "ensembl_id",
        "refseq_id",
        "uniprot_id",
        "hgnc_id",
        "omim_id",
        "gene_type",
        "gene_length",
        "exon_count",
        "transcript_count",
        "gc_content",
        "strand",
        "is_essential",
        "is_housekeeping",
        "paralogs_count",
        "orthologs_count",
        "gtex_adipose_subcutaneous",
        "gtex_adipose_visceral_omentum",
        "gtex_adrenal_gland",
        "gtex_artery_aorta",
        "gtex_artery_coronary",
        "gtex_artery_tibial",
        "gtex_bladder",
        "gtex_brain_amygdala",
        "gtex_brain_anterior_cingulate_cortex_ba24",
        "gtex_brain_caudate_basal_ganglia",
        "gtex_brain_cerebellar_hemisphere",
        "gtex_brain_cerebellum",
        "gtex_brain_cortex",
        "gtex_brain_frontal_cortex_ba9",
        "gtex_brain_hippocampus",
        "gtex_brain_hypothalamus",
        "gtex_brain_nucleus_accumbens_basal_ganglia",
        "gtex_brain_putamen_basal_ganglia",
        "gtex_brain_spinal_cord_cervical_c1",
        "gtex_brain_substantia_nigra",
        "gtex_breast_mammary_tissue",
        "gtex_cells_cultured_fibroblasts",
        "gtex_cells_ebv_transformed_lymphocytes",
        "gtex_cervix_ectocervix",
        "gtex_cervix_endocervix",
        "gtex_colon_sigmoid",
        "gtex_colon_transverse",
        "gtex_esophagus_gastroesophageal_junction",
        "gtex_esophagus_mucosa",
        "gtex_esophagus_muscularis",
        "gtex_fallopian_tube",
        "gtex_heart_atrial_appendage",
        "gtex_heart_left_ventricle",
        "gtex_kidney_cortex",
        "gtex_kidney_medulla",
        "gtex_liver",
        "gtex_lung",
        "gtex_minor_salivary_gland",
        "gtex_muscle_skeletal",
        "gtex_nerve_tibial",
        "gtex_ovary",
        "gtex_pancreas",
        "gtex_pituitary",
        "gtex_prostate",
        "gtex_skin_not_sun_exposed_suprapubic",
        "gtex_skin_sun_exposed_lower_leg",
        "gtex_small_intestine_terminal_ileum",
        "gtex_spleen",
        "gtex_stomach",
        "gtex_testis",
        "gtex_thyroid",
        "gtex_uterus",
        "gtex_vagina",
        "gtex_whole_blood",
        "protein_length",
        "molecular_weight",
        "isoelectric_point",
        "instability_index",
        "aliphatic_index",
        "gravy_score",
        "domains_count",
        "transmembrane_domains",
        "signal_peptide",
        "subcellular_location",
        "mean_expression_all_tissues",
        "max_expression_all_tissues",
        "min_expression_all_tissues",
        "std_expression_all_tissues",
        "cv_expression",
        "tissues_expressed_count",
        "highly_expressed_tissues",
        "tissue_specificity_tau",
        "max_expression_tissue",
        "data_source",
        "last_updated",
        "version"
       ],
       "description": "Y:",
       "index": 33,
       "layout": "IPY_MODEL_85d4ba87636143f780896b548a842686",
       "style": "IPY_MODEL_6869971e70e34bad8852711f9ce9c9a7"
      }
     },
     "a0cdfb573ef7411b8a6ac13cce85332e": {
      "model_module": "@jupyter-widgets/base",
      "model_module_version": "2.0.0",
      "model_name": "LayoutModel",
      "state": {}
     },
     "a2f39206c9054b95a081c71ba2e9beb0": {
      "model_module": "@jupyter-widgets/controls",
      "model_module_version": "2.0.0",
      "model_name": "BoxModel",
      "state": {
       "children": [
        "IPY_MODEL_917a67afb28645eabeda2a98cb841b2b"
       ],
       "layout": "IPY_MODEL_cc86fc7dd22044ad8cdbd0a7c8d1974e"
      }
     },
     "a32d2ecbc3764f0abefe5f34e98b7345": {
      "model_module": "@jupyter-widgets/controls",
      "model_module_version": "2.0.0",
      "model_name": "DescriptionStyleModel",
      "state": {
       "description_width": ""
      }
     },
     "a3e7bd1c813b496f92bdebef50673d52": {
      "model_module": "@jupyter-widgets/base",
      "model_module_version": "2.0.0",
      "model_name": "LayoutModel",
      "state": {}
     },
     "a681db78cfca4ee395cac91b49f84061": {
      "model_module": "@jupyter-widgets/controls",
      "model_module_version": "2.0.0",
      "model_name": "BoxModel",
      "state": {
       "children": [
        "IPY_MODEL_6238409adf904dc1b8bbbb9122aa5b34"
       ],
       "layout": "IPY_MODEL_a8247148aade4eac81d0080dbfb49dbe"
      }
     },
     "a8247148aade4eac81d0080dbfb49dbe": {
      "model_module": "@jupyter-widgets/base",
      "model_module_version": "2.0.0",
      "model_name": "LayoutModel",
      "state": {
       "height": "auto",
       "max_width": "15em"
      }
     },
     "aa95637c3a654a17a20a3a6d158715a0": {
      "model_module": "@jupyter-widgets/base",
      "model_module_version": "2.0.0",
      "model_name": "LayoutModel",
      "state": {}
     },
     "aeea988010b9418e93301a7613f62b8d": {
      "model_module": "@jupyter-widgets/base",
      "model_module_version": "2.0.0",
      "model_name": "LayoutModel",
      "state": {}
     },
     "b061d955481e4316bbc3813b0ae4370e": {
      "model_module": "@jupyter-widgets/output",
      "model_module_version": "1.0.0",
      "model_name": "OutputModel",
      "state": {
       "layout": "IPY_MODEL_8255d96b475d4b5cbd1ff79fca81ee99",
       "outputs": [
        {
         "name": "stdout",
         "output_type": "stream",
         "text": "5\nInlineBackend._figure_format_changed is deprecated in traitlets 4.1: use @observe and @unobserve instead.\nvert: bool will be deprecated in a future version. Use orientation: {'vertical', 'horizontal'} instead.\n"
        }
       ]
      }
     },
     "b19edce1c33a43498278f981627a4955": {
      "model_module": "@jupyter-widgets/controls",
      "model_module_version": "2.0.0",
      "model_name": "BoxModel",
      "state": {
       "children": [
        "IPY_MODEL_c1e77db9e6ad43ac8e6b986771574ff5"
       ],
       "layout": "IPY_MODEL_a8247148aade4eac81d0080dbfb49dbe"
      }
     },
     "b3723ccda2674fc6a44e5aab1ca669f6": {
      "model_module": "@jupyter-widgets/controls",
      "model_module_version": "2.0.0",
      "model_name": "HBoxModel",
      "state": {
       "children": [
        "IPY_MODEL_deea2bc47c994c0f81c6764b5167fb75",
        "IPY_MODEL_36ca23e3df5f49cc8a8ac543aca952e4",
        "IPY_MODEL_6a853a8d51d04774a39ff185137c4680",
        "IPY_MODEL_c13fc82679224df9a7df7ba577bc71ec",
        "IPY_MODEL_a2f39206c9054b95a081c71ba2e9beb0",
        "IPY_MODEL_8f682ba2cf364de0890124156177d7d4"
       ],
       "layout": "IPY_MODEL_f30f67670337435887a1d0a65d014a13"
      }
     },
     "b47d8725220544cbad3e792d2eb9e6b4": {
      "model_module": "@jupyter-widgets/controls",
      "model_module_version": "2.0.0",
      "model_name": "DescriptionStyleModel",
      "state": {
       "description_width": ""
      }
     },
     "beb50feb052b4f1fa13c1a8e60cb2866": {
      "model_module": "@jupyter-widgets/controls",
      "model_module_version": "2.0.0",
      "model_name": "DescriptionStyleModel",
      "state": {
       "description_width": ""
      }
     },
     "c13fc82679224df9a7df7ba577bc71ec": {
      "model_module": "@jupyter-widgets/controls",
      "model_module_version": "2.0.0",
      "model_name": "BoxModel",
      "state": {
       "children": [
        "IPY_MODEL_f3ecc458c1d44f7c8f76cab117df3408"
       ],
       "layout": "IPY_MODEL_cc86fc7dd22044ad8cdbd0a7c8d1974e"
      }
     },
     "c1e77db9e6ad43ac8e6b986771574ff5": {
      "model_module": "@jupyter-widgets/controls",
      "model_module_version": "2.0.0",
      "model_name": "DropdownModel",
      "state": {
       "_options_labels": [
        "none",
        "species",
        "island",
        "bill_length_mm",
        "bill_depth_mm",
        "flipper_length_mm",
        "body_mass_g",
        "sex"
       ],
       "description": "X:",
       "index": 0,
       "layout": "IPY_MODEL_a0cdfb573ef7411b8a6ac13cce85332e",
       "style": "IPY_MODEL_88a35b64f8834ea5932bc650c513f029"
      }
     },
     "c37bc0231e544315bc3b8b76d121840f": {
      "model_module": "@jupyter-widgets/controls",
      "model_module_version": "2.0.0",
      "model_name": "BoxModel",
      "state": {
       "children": [
        "IPY_MODEL_909bffe636fc49ec9961a6c7d897721b"
       ],
       "layout": "IPY_MODEL_a8247148aade4eac81d0080dbfb49dbe"
      }
     },
     "c7169ec365a84325bf4b80d7d95eaf8d": {
      "model_module": "@jupyter-widgets/base",
      "model_module_version": "2.0.0",
      "model_name": "LayoutModel",
      "state": {}
     },
     "cc86fc7dd22044ad8cdbd0a7c8d1974e": {
      "model_module": "@jupyter-widgets/base",
      "model_module_version": "2.0.0",
      "model_name": "LayoutModel",
      "state": {
       "height": "auto",
       "max_width": "15em"
      }
     },
     "cf67f6b963b748528ead4c53e32b39ee": {
      "model_module": "@jupyter-widgets/output",
      "model_module_version": "1.0.0",
      "model_name": "OutputModel",
      "state": {
       "layout": "IPY_MODEL_a3e7bd1c813b496f92bdebef50673d52"
      }
     },
     "d1269d8b94c5469198577301dfcc33d0": {
      "model_module": "@jupyter-widgets/controls",
      "model_module_version": "2.0.0",
      "model_name": "HBoxModel",
      "state": {
       "children": [
        "IPY_MODEL_0abc1cceef40435f89304ced3e09ce75",
        "IPY_MODEL_2f409d0f165c4afe8ff674344811b20e"
       ],
       "layout": "IPY_MODEL_875ef884333847a499b13ea60ad3b506"
      }
     },
     "d31f8ddd859e49d188714c47edfafaaf": {
      "model_module": "@jupyter-widgets/controls",
      "model_module_version": "2.0.0",
      "model_name": "BoxModel",
      "state": {
       "children": [
        "IPY_MODEL_907dfe7ddf9b4f98b960ba137ad21b6f"
       ],
       "layout": "IPY_MODEL_a8247148aade4eac81d0080dbfb49dbe"
      }
     },
     "d40920e181e64617939b6f29b4cdbe0f": {
      "model_module": "@jupyter-widgets/controls",
      "model_module_version": "2.0.0",
      "model_name": "DescriptionStyleModel",
      "state": {
       "description_width": ""
      }
     },
     "da5bef08b6b9470b884001e8651304d4": {
      "model_module": "@jupyter-widgets/base",
      "model_module_version": "2.0.0",
      "model_name": "LayoutModel",
      "state": {}
     },
     "deea2bc47c994c0f81c6764b5167fb75": {
      "model_module": "@jupyter-widgets/controls",
      "model_module_version": "2.0.0",
      "model_name": "BoxModel",
      "state": {
       "children": [
        "IPY_MODEL_5d1f59a46afe4f639f6bb05b58e954b9"
       ],
       "layout": "IPY_MODEL_cc86fc7dd22044ad8cdbd0a7c8d1974e"
      }
     },
     "df119cf3e2e444df8f2dda423f35c3a3": {
      "model_module": "@jupyter-widgets/controls",
      "model_module_version": "2.0.0",
      "model_name": "ButtonModel",
      "state": {
       "_dom_classes": [
        "button-spacing-class"
       ],
       "description": "Show plot",
       "layout": "IPY_MODEL_5bb372e670bf4347a8f1468dc1fbc767",
       "style": "IPY_MODEL_5520da0aaf494f48bd6dfa4fb37a8850",
       "tooltip": null
      }
     },
     "f078220b0a45426da6928a58bc0a79ee": {
      "model_module": "@jupyter-widgets/controls",
      "model_module_version": "2.0.0",
      "model_name": "DescriptionStyleModel",
      "state": {
       "description_width": ""
      }
     },
     "f19aea6076da45ba9fea3da155180be9": {
      "model_module": "@jupyter-widgets/controls",
      "model_module_version": "2.0.0",
      "model_name": "DescriptionStyleModel",
      "state": {
       "description_width": ""
      }
     },
     "f30f67670337435887a1d0a65d014a13": {
      "model_module": "@jupyter-widgets/base",
      "model_module_version": "2.0.0",
      "model_name": "LayoutModel",
      "state": {
       "flex_flow": "row wrap"
      }
     },
     "f3ecc458c1d44f7c8f76cab117df3408": {
      "model_module": "@jupyter-widgets/controls",
      "model_module_version": "2.0.0",
      "model_name": "DropdownModel",
      "state": {
       "_options_labels": [
        "none",
        "gene_name",
        "chromosome",
        "ensembl_id",
        "refseq_id",
        "uniprot_id",
        "hgnc_id",
        "gene_type",
        "strand",
        "subcellular_location",
        "max_expression_tissue",
        "data_source",
        "last_updated"
       ],
       "description": "Row:",
       "index": 0,
       "layout": "IPY_MODEL_607fa6fcb5484e9eb4278778a7948084",
       "style": "IPY_MODEL_f19aea6076da45ba9fea3da155180be9"
      }
     },
     "f771ef9993b44f5fa46b7918bc657e42": {
      "model_module": "@jupyter-widgets/controls",
      "model_module_version": "2.0.0",
      "model_name": "BoxModel",
      "state": {
       "children": [
        "IPY_MODEL_47833eae810148b4a2848f1a254abc19"
       ],
       "layout": "IPY_MODEL_a8247148aade4eac81d0080dbfb49dbe"
      }
     }
    },
    "version_major": 2,
    "version_minor": 0
   }
  }
 },
 "nbformat": 4,
 "nbformat_minor": 5
}
